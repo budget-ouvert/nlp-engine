{
 "cells": [
  {
   "cell_type": "code",
   "execution_count": 8,
   "metadata": {},
   "outputs": [],
   "source": [
    "import csv\n",
    "import json\n",
    "import keras\n",
    "import matplotlib.pyplot as plt\n",
    "import numpy as np\n",
    "import os\n",
    "\n",
    "from anytree import Node, RenderTree, Resolver, AnyNode, LevelOrderIter, PreOrderIter\n",
    "from collections import defaultdict\n",
    "from tqdm import tqdm_notebook, tqdm"
   ]
  },
  {
   "cell_type": "markdown",
   "metadata": {},
   "source": [
    "Commandes pour générer les fichiers `.csv` depuis le dump envoyé par la DB :\n",
    "```\n",
    "ls | xargs -i basename {} .xlsx | xargs -i ssconvert {}.xlsx {}.csv\n",
    "find -name '*.csv' | xargs -i wc -l {}\n",
    "```"
   ]
  },
  {
   "cell_type": "code",
   "execution_count": 22,
   "metadata": {},
   "outputs": [],
   "source": [
    "EMBEDDING_FILEPATH = '/home/alexis/mva/word_embeddings/wiki.fr.vec'\n",
    "\n",
    "PLF_NOMENCLATURES_FOLDER = './raw_data/'\n",
    "PLF_GRAPH_OUTPUT_FOLDER = '../server/resources/plf_all_nodes/'\n",
    "VOTES_OUTPUT_FOLDER = '../server/resources/plf_votes/'\n",
    "MAPPINGS_OUTPUT_FOLDER = '../server/resources/plf_mappings/'\n",
    "\n",
    "WORD_EMBEDDING_SIZE = 300\n",
    "K = 5\n",
    "MIN_YEAR = 2012\n",
    "MAX_YEAR = 2019\n",
    "ATTRIBUTES = ['tm', 'ms', 'pg', 'a', 'sa']\n",
    "ATTRIBUTE_ID = ['id_tms', 'id_ms', 'id_pg', 'id_a', 'id_sa']\n",
    "ROOT_NAME = 'root'"
   ]
  },
  {
   "cell_type": "markdown",
   "metadata": {},
   "source": [
    "# Load word embeddings"
   ]
  },
  {
   "cell_type": "markdown",
   "metadata": {},
   "source": [
    "Load FastText pretrained embeddings. These should be downloaded from `https://s3-us-west-1.amazonaws.com/fasttext-vectors/wiki.fr.vec`.\n",
    "\n",
    "`EMBEDDING_FILE_PATH` should point to where this file is stored."
   ]
  },
  {
   "cell_type": "code",
   "execution_count": 3,
   "metadata": {},
   "outputs": [],
   "source": [
    "import gensim\n",
    "from gensim.models import Word2Vec\n",
    "pretrained_embeddings = gensim.models.KeyedVectors.load_word2vec_format(EMBEDDING_FILEPATH, binary=False)"
   ]
  },
  {
   "cell_type": "markdown",
   "metadata": {},
   "source": [
    "# Load Data"
   ]
  },
  {
   "cell_type": "markdown",
   "metadata": {},
   "source": [
    "Data in `SOURCE_PLF_FILEPATH` and `TARGET_PLF_FILEPATH` contains all leaves of the PLF trees.\n",
    "\n",
    "This part of the code is used to build an explicit list of all nodes of these trees (not only leaves). It also builds node's embeddings the following way: each node's embedding is the concatenation of it's parent's _node-embedding_ and it's label's _word-embedding_."
   ]
  },
  {
   "cell_type": "code",
   "execution_count": 10,
   "metadata": {},
   "outputs": [],
   "source": [
    "class Line:\n",
    "    \"\"\"Parser for rows of input CSV files\"\"\"\n",
    "\n",
    "    def __init__(self, row):\n",
    "        self.id_tms = row[1]\n",
    "        self.tm = row[2]\n",
    "        self.id_ms = row[3]\n",
    "        self.ms = row[4]\n",
    "        self.id_pg = row[5]\n",
    "        self.pg = row[6]\n",
    "        self.id_a = row[7]\n",
    "        self.a = row[8]\n",
    "        # Parse sous-action if exists\n",
    "        self.id_sa = row[9]\n",
    "        self.sa = row[10]\n",
    "#         self.id_sa = row[9] if len(row[9]) > 0 else ''\n",
    "#         self.sa = row[10] if len(row[10]) > 0 else ''"
   ]
  },
  {
   "cell_type": "code",
   "execution_count": 11,
   "metadata": {},
   "outputs": [],
   "source": [
    "def build_all_nodes_from_leaves(file_path, tree, resolver):\n",
    "    \"\"\"Iterates over input CSV file's lines\n",
    "    to build tree representing data.\n",
    "\n",
    "    Inputs:\n",
    "        - path to csv file under study\n",
    "        - anytree which will be updated\n",
    "        - anytree resolver for searching in given tree\n",
    "    \"\"\"\n",
    "\n",
    "    with open(file_path, 'r') as input_file:\n",
    "        reader = csv.reader(input_file, delimiter=',', quotechar='\"')\n",
    "\n",
    "        # Skip header\n",
    "        next(reader, None)\n",
    "\n",
    "        # Iterate through rows\n",
    "        for row in reader:\n",
    "            # Parse current row\n",
    "            line = Line(row)\n",
    "\n",
    "            # Walk in the current tree and potentially\n",
    "            # build path of the leaf under study.\n",
    "            current_tree = tree\n",
    "            current_path = []\n",
    "            current_id = []\n",
    "\n",
    "            # Iterate through line attributes, which represent\n",
    "            # recursive nodes of the leaf under study.\n",
    "            for attribute, attribute_id in zip(ATTRIBUTES, ATTRIBUTE_ID):\n",
    "                # Get current node name\n",
    "                name = getattr(line, attribute)\n",
    "                if name == '':\n",
    "                    continue\n",
    "\n",
    "                # Update id array\n",
    "                if getattr(line, attribute_id):\n",
    "                    current_id.append(getattr(line, attribute_id))\n",
    "\n",
    "                # Update location in tree\n",
    "                current_path.append(name)\n",
    "                try:\n",
    "                    # If current node already exists,\n",
    "                    # simply update current_node with it\n",
    "                    current_tree = resolver.get(current_tree, str(hash(tuple(current_id))))\n",
    "                except:\n",
    "                    # If not, create a new node.\n",
    "\n",
    "                    # Compute embedding for current node\n",
    "\n",
    "                    ## Split current node's name\n",
    "                    words = keras.preprocessing.text.text_to_word_sequence(\n",
    "                        name,\n",
    "                        filters=\"!\\\"#$%&()*+,-./:;<=>?@[\\\\]^_`{|}~\\t\\n'´’™©®«»\",\n",
    "                        lower=True,\n",
    "                        split=' '\n",
    "                    )\n",
    "\n",
    "                    ## Initiate sentence embedding;\n",
    "                    ## Sentence embedding will be the average\n",
    "                    ## of all present word embeddings.\n",
    "                    sentence_embedding = np.zeros((1, WORD_EMBEDDING_SIZE))\n",
    "\n",
    "                    ## Create embedding for each word\n",
    "                    for word in words:\n",
    "                        try:\n",
    "                            sentence_embedding += pretrained_embeddings[word.lower()]\n",
    "                        except:\n",
    "                            # If word does not exist in pretrained embedding,\n",
    "                            # give it null embedding\n",
    "                            pass\n",
    "\n",
    "                    ## Normalize sentence embedding\n",
    "                    sentence_embedding /= max(len(words), 1)\n",
    "\n",
    "                    ## Concatenate embedding with parent node embedding\n",
    "                    node_embedding = np.concatenate((\n",
    "                        np.array(current_tree.embedding[0]).reshape((1, WORD_EMBEDDING_SIZE)) +\n",
    "                        np.array(current_tree.embedding[1]).reshape((1, WORD_EMBEDDING_SIZE)),\n",
    "                        sentence_embedding\n",
    "                    ))\n",
    "                    \n",
    "                    # Update node\n",
    "                    current_tree = AnyNode(\n",
    "                        parent=current_tree,\n",
    "                        name=current_path[-1],\n",
    "                        embedding=node_embedding,\n",
    "                        current_path=current_path.copy(),\n",
    "                        id=current_id.copy(),\n",
    "                        hashed_id=str(hash(tuple(current_id))),\n",
    "                        data=line\n",
    "                    )"
   ]
  },
  {
   "cell_type": "code",
   "execution_count": 12,
   "metadata": {},
   "outputs": [],
   "source": [
    "resolver = Resolver('hashed_id')"
   ]
  },
  {
   "cell_type": "markdown",
   "metadata": {},
   "source": [
    "## Test previous functions"
   ]
  },
  {
   "cell_type": "code",
   "execution_count": 6,
   "metadata": {},
   "outputs": [],
   "source": [
    "SOURCE_PLF_FILEPATH = '../server/resources/plf_leaves_only/plf2016.csv'\n",
    "TARGET_PLF_FILEPATH = '../server/resources/plf_leaves_only/plf2017.csv'"
   ]
  },
  {
   "cell_type": "code",
   "execution_count": 18,
   "metadata": {},
   "outputs": [
    {
     "name": "stdout",
     "output_type": "stream",
     "text": [
      "CPU times: user 16.2 s, sys: 63.9 ms, total: 16.3 s\n",
      "Wall time: 16.3 s\n"
     ]
    }
   ],
   "source": [
    "%%time\n",
    "source_tree = AnyNode(name=ROOT_NAME, parent=None, embedding=np.zeros((2, WORD_EMBEDDING_SIZE)), id=[], hashed_id=str(hash(tuple())))\n",
    "build_all_nodes_from_leaves(SOURCE_PLF_FILEPATH, source_tree, resolver)"
   ]
  },
  {
   "cell_type": "code",
   "execution_count": 19,
   "metadata": {},
   "outputs": [
    {
     "name": "stdout",
     "output_type": "stream",
     "text": [
      "CPU times: user 16.4 s, sys: 35.9 ms, total: 16.4 s\n",
      "Wall time: 16.4 s\n"
     ]
    }
   ],
   "source": [
    "%%time\n",
    "target_tree = AnyNode(name=ROOT_NAME, parent=None, embedding=np.zeros((2, WORD_EMBEDDING_SIZE)), id=[], hashed_id=str(hash(tuple())))\n",
    "build_all_nodes_from_leaves(TARGET_PLF_FILEPATH, target_tree, resolver)"
   ]
  },
  {
   "cell_type": "markdown",
   "metadata": {},
   "source": [
    "## Unit tests"
   ]
  },
  {
   "cell_type": "markdown",
   "metadata": {},
   "source": [
    "### Check embedding shape"
   ]
  },
  {
   "cell_type": "markdown",
   "metadata": {},
   "source": [
    "Test that all created embeddings have the same shape."
   ]
  },
  {
   "cell_type": "code",
   "execution_count": 20,
   "metadata": {},
   "outputs": [
    {
     "name": "stdout",
     "output_type": "stream",
     "text": [
      "Test ok\n"
     ]
    }
   ],
   "source": [
    "for node in LevelOrderIter(source_tree):\n",
    "    assert(node.embedding.shape == (2, WORD_EMBEDDING_SIZE))\n",
    "print('Test ok')"
   ]
  },
  {
   "cell_type": "markdown",
   "metadata": {},
   "source": [
    "# Find nearest neighbours"
   ]
  },
  {
   "cell_type": "code",
   "execution_count": 13,
   "metadata": {},
   "outputs": [],
   "source": [
    "from sklearn.neighbors import NearestNeighbors"
   ]
  },
  {
   "cell_type": "code",
   "execution_count": 14,
   "metadata": {},
   "outputs": [],
   "source": [
    "def build_nearest_neighbours(tree, k=2):\n",
    "    \"\"\"Build and return scikit NearestNeighbors.\n",
    "    \n",
    "    Inputs:\n",
    "        - anytree\n",
    "        - number of nearest neighbours\n",
    "    \"\"\"\n",
    "\n",
    "    # Stack and flatten all embeddings\n",
    "    # from a given tree\n",
    "    embeddings = np.array([node.embedding.flatten() for node in LevelOrderIter(tree) if node.name != ROOT_NAME])\n",
    "    indices = [node.id for node in LevelOrderIter(tree) if node.name != ROOT_NAME]\n",
    "\n",
    "    # Initiate scikit learn NearestNeighbors\n",
    "    neighbours = NearestNeighbors(\n",
    "        n_neighbors=k,\n",
    "        algorithm='ball_tree'\n",
    "    ).fit(embeddings)\n",
    "\n",
    "    return neighbours"
   ]
  },
  {
   "cell_type": "code",
   "execution_count": 15,
   "metadata": {},
   "outputs": [],
   "source": [
    "def fit_tree_to_neighbours(tree, neighbours):\n",
    "    embeddings = np.array([node.embedding.flatten() for node in LevelOrderIter(tree) if node.name != ROOT_NAME])\n",
    "\n",
    "    print('Computing KNN...')\n",
    "    distances, indices = neighbours.kneighbors(embeddings)\n",
    "\n",
    "    return distances, indices, embeddings"
   ]
  },
  {
   "cell_type": "code",
   "execution_count": 16,
   "metadata": {},
   "outputs": [],
   "source": [
    "def get_path_name(node):\n",
    "    if node.parent:\n",
    "        return (get_path_name(node.parent) if node.parent else []) + [node.name]\n",
    "    else:\n",
    "        return []"
   ]
  },
  {
   "cell_type": "code",
   "execution_count": 17,
   "metadata": {},
   "outputs": [],
   "source": [
    "def tree_to_csv_file(tree, filename):\n",
    "    '''Outputs all nodes of a given tree in a CSV file.'''\n",
    "\n",
    "    with open(os.path.join(PLF_GRAPH_OUTPUT_FOLDER, filename), 'w+') as f:\n",
    "        f.write('Node index;Type mission;Code type mission;Mission;Code mission;Programme;Code programme;Action;Code action;Sous-action;Code sous-action\\n')\n",
    "\n",
    "        for child_index, child in enumerate(LevelOrderIter(tree)):\n",
    "            if child.name != ROOT_NAME:\n",
    "                # Substract 1 to current child_index becose\n",
    "                # root node is dismissed\n",
    "                f.write('{};'.format(str(child_index-1)))\n",
    "                path_name = get_path_name(child)\n",
    "\n",
    "                for i, attribute in enumerate(ATTRIBUTES):\n",
    "                    if i < len(path_name):\n",
    "                        f.write('{};{};'.format(\n",
    "                            path_name[i],\n",
    "                            child.id[i]\n",
    "                        ))\n",
    "                    else:\n",
    "                        f.write(';;')\n",
    "                f.write('\\b\\n')"
   ]
  },
  {
   "cell_type": "code",
   "execution_count": 18,
   "metadata": {},
   "outputs": [],
   "source": [
    "class Suggestion:\n",
    "    def __init__(self):\n",
    "        self.distance = None\n",
    "        self.upvotes = 0\n",
    "        self.downvotes = 0\n",
    "        self.commentaires = []\n",
    "\n",
    "class Mapping:\n",
    "    def __init__(self):\n",
    "        self.distance = None\n",
    "\n",
    "def neighbours_to_files(from_tree, to_tree, indices, distances, filename, jsonOnly=False):\n",
    "    mappingsDict = defaultdict(list)\n",
    "    votesDict = defaultdict(lambda: defaultdict(Suggestion))\n",
    "    \n",
    "    from_tree_node_list = [node for node in LevelOrderIter(from_tree) if node.name != ROOT_NAME]\n",
    "    to_tree_node_list = [node for node in LevelOrderIter(to_tree) if node.name != ROOT_NAME]\n",
    "\n",
    "    for source_index, (row_indices, row_distances) in enumerate(zip(indices, distances)):\n",
    "        # Fill mappingsDict\n",
    "        mappingsDict['-'.join(from_tree_node_list[source_index].id)].append(dict({\n",
    "            'distance': row_distances[0],\n",
    "            'libelles': to_tree_node_list[row_indices[0]].current_path,\n",
    "            'codes': to_tree_node_list[row_indices[0]].id\n",
    "        }))\n",
    "\n",
    "        # Fill votesDict\n",
    "        for target_index, target_distance in zip(row_indices, row_distances):\n",
    "            votesDict[str(source_index)][str(target_index)].distance = target_distance\n",
    "\n",
    "    with open(os.path.join(MAPPINGS_OUTPUT_FOLDER, '{}.json'.format(filename)), 'w+') as f:\n",
    "        json.dump(mappingsDict, f, default=lambda o: o.__dict__)\n",
    "\n",
    "    if not jsonOnly:\n",
    "        with open(os.path.join(MAPPINGS_OUTPUT_FOLDER, '{}.csv'.format(filename)), 'w+') as f:\n",
    "            for source_id in mappingsDict:\n",
    "                for target_id in mappingsDict[source_id]:\n",
    "                    f.write('{};{};{}\\n'.format(source_id, target_id, mappingsDict[source_id][0]['distance']))\n",
    "\n",
    "    with open(os.path.join(VOTES_OUTPUT_FOLDER, '{}.json'.format(filename)), 'w+') as f:\n",
    "        json.dump(votesDict, f, default=lambda o: o.__dict__)"
   ]
  },
  {
   "cell_type": "code",
   "execution_count": 19,
   "metadata": {},
   "outputs": [],
   "source": [
    "def map_trees(from_tree, to_tree, output_filename_without_extension=None):\n",
    "    to_neighbours = build_nearest_neighbours(to_tree, k=K)\n",
    "    distances, indices, embeddings = fit_tree_to_neighbours(from_tree, to_neighbours)\n",
    "\n",
    "    if output_filename_without_extension:\n",
    "        neighbours_to_files(from_tree, to_tree, indices, distances, output_filename_without_extension, jsonOnly=True)\n",
    "\n",
    "    return distances, indices, embeddings"
   ]
  },
  {
   "cell_type": "markdown",
   "metadata": {},
   "source": [
    "## Test previous functions\n",
    "Execute previous functions on loaded data."
   ]
  },
  {
   "cell_type": "code",
   "execution_count": 28,
   "metadata": {},
   "outputs": [],
   "source": [
    "tree_to_csv_file(source_tree, os.path.basename(SOURCE_PLF_FILEPATH))\n",
    "tree_to_csv_file(target_tree, os.path.basename(TARGET_PLF_FILEPATH))"
   ]
  },
  {
   "cell_type": "markdown",
   "metadata": {},
   "source": [
    "## Compute pairs both ways"
   ]
  },
  {
   "cell_type": "code",
   "execution_count": 29,
   "metadata": {},
   "outputs": [
    {
     "name": "stdout",
     "output_type": "stream",
     "text": [
      "Computing KNN...\n",
      "CPU times: user 7.51 s, sys: 19.9 ms, total: 7.53 s\n",
      "Wall time: 7.52 s\n"
     ]
    }
   ],
   "source": [
    "%%time\n",
    "distances, indices, embeddings = map_trees(source_tree, target_tree, output_filename_without_extension='{}_to_{}'.format(\n",
    "    os.path.splitext(os.path.basename(SOURCE_PLF_FILEPATH))[0],\n",
    "    os.path.splitext(os.path.basename(TARGET_PLF_FILEPATH))[0]\n",
    "))"
   ]
  },
  {
   "cell_type": "code",
   "execution_count": 30,
   "metadata": {},
   "outputs": [
    {
     "name": "stdout",
     "output_type": "stream",
     "text": [
      "Computing KNN...\n",
      "CPU times: user 7.64 s, sys: 35.9 ms, total: 7.67 s\n",
      "Wall time: 7.67 s\n"
     ]
    }
   ],
   "source": [
    "%%time\n",
    "distances, indices, embeddings = map_trees(source_tree, target_tree, output_filename_without_extension='{}_to_{}'.format(\n",
    "    os.path.splitext(os.path.basename(TARGET_PLF_FILEPATH))[0],\n",
    "    os.path.splitext(os.path.basename(SOURCE_PLF_FILEPATH))[0]\n",
    "))"
   ]
  },
  {
   "cell_type": "markdown",
   "metadata": {},
   "source": [
    "# Build all mappings & mapping suggestions"
   ]
  },
  {
   "cell_type": "code",
   "execution_count": 27,
   "metadata": {},
   "outputs": [],
   "source": [
    "def build_mapping(source_year):\n",
    "    SOURCE_PLF_FILEPATH = os.path.join(PLF_NOMENCLATURES_FOLDER, 'plf_{}.csv'.format(source_year))\n",
    "    TARGET_PLF_FILEPATH = os.path.join(PLF_NOMENCLATURES_FOLDER, 'plf_{}.csv'.format(source_year+1))\n",
    "\n",
    "    print('1. Compute embeddings...')\n",
    "    source_tree = AnyNode(name=ROOT_NAME, parent=None, embedding=np.zeros((2, WORD_EMBEDDING_SIZE)), id=[], hashed_id=str(hash(tuple())))\n",
    "    build_all_nodes_from_leaves(SOURCE_PLF_FILEPATH, source_tree, resolver)\n",
    "    target_tree = AnyNode(name=ROOT_NAME, parent=None, embedding=np.zeros((2, WORD_EMBEDDING_SIZE)), id=[], hashed_id=str(hash(tuple())))\n",
    "    build_all_nodes_from_leaves(TARGET_PLF_FILEPATH, target_tree, resolver)\n",
    "    \n",
    "    tree_to_csv_file(source_tree, os.path.basename(SOURCE_PLF_FILEPATH))\n",
    "    tree_to_csv_file(target_tree, os.path.basename(TARGET_PLF_FILEPATH))\n",
    "\n",
    "    print('2. Compute mapping and mapping suggestions (also called votes)...')\n",
    "    distances, indices, embeddings = map_trees(source_tree, target_tree, output_filename_without_extension='{}_to_{}'.format(\n",
    "        os.path.splitext(os.path.basename(SOURCE_PLF_FILEPATH))[0],\n",
    "        os.path.splitext(os.path.basename(TARGET_PLF_FILEPATH))[0]\n",
    "    ))\n",
    "    # Uncomment/comment the following lines if you want mappings and suggestions to be computed both ways (n -> n+1 and n+1 -> n)\n",
    "    distances, indices, embeddings = map_trees(source_tree, target_tree, output_filename_without_extension='{}_to_{}'.format(\n",
    "        os.path.splitext(os.path.basename(TARGET_PLF_FILEPATH))[0],\n",
    "        os.path.splitext(os.path.basename(SOURCE_PLF_FILEPATH))[0]\n",
    "    ))"
   ]
  },
  {
   "cell_type": "code",
   "execution_count": null,
   "metadata": {},
   "outputs": [
    {
     "name": "stdout",
     "output_type": "stream",
     "text": [
      "Building comparison for years 2012-2013\n",
      "1. Compute embeddings...\n",
      "2. Compute mapping and mapping suggestions (also called votes)...\n",
      "Computing KNN...\n",
      "Computing KNN...\n",
      "\n",
      "\n",
      "Building comparison for years 2013-2014\n",
      "1. Compute embeddings...\n",
      "2. Compute mapping and mapping suggestions (also called votes)...\n",
      "Computing KNN...\n",
      "Computing KNN...\n",
      "\n",
      "\n",
      "Building comparison for years 2014-2015\n",
      "1. Compute embeddings...\n",
      "2. Compute mapping and mapping suggestions (also called votes)...\n",
      "Computing KNN...\n",
      "Computing KNN...\n",
      "\n",
      "\n",
      "Building comparison for years 2015-2016\n",
      "1. Compute embeddings...\n",
      "2. Compute mapping and mapping suggestions (also called votes)...\n",
      "Computing KNN...\n",
      "Computing KNN...\n",
      "\n",
      "\n",
      "Building comparison for years 2016-2017\n",
      "1. Compute embeddings...\n",
      "2. Compute mapping and mapping suggestions (also called votes)...\n",
      "Computing KNN...\n",
      "Computing KNN...\n",
      "\n",
      "\n",
      "Building comparison for years 2017-2018\n",
      "1. Compute embeddings...\n",
      "2. Compute mapping and mapping suggestions (also called votes)...\n",
      "Computing KNN...\n",
      "Computing KNN...\n",
      "\n",
      "\n",
      "Building comparison for years 2018-2019\n",
      "1. Compute embeddings...\n"
     ]
    }
   ],
   "source": [
    "for year in range(MIN_YEAR, MAX_YEAR):\n",
    "    print('Building comparison for years {}-{}'.format(year, year+1))\n",
    "    build_mapping(year)\n",
    "    print('\\n')"
   ]
  },
  {
   "cell_type": "markdown",
   "metadata": {},
   "source": [
    "# A few metrics about the generated pairs"
   ]
  },
  {
   "cell_type": "code",
   "execution_count": 35,
   "metadata": {},
   "outputs": [
    {
     "name": "stdout",
     "output_type": "stream",
     "text": [
      "Percentage of not directly matched: 10.02 % (249 / 2484)\n"
     ]
    }
   ],
   "source": [
    "print('Percentage of not directly matched: {:.2f} % ({} / {})'.format(\n",
    "        distances[distances[:,0] != 0].shape[0] / distances.shape[0] * 100,\n",
    "        distances[distances[:,0] != 0].shape[0],\n",
    "        distances.shape[0]\n",
    "    )\n",
    ")"
   ]
  },
  {
   "cell_type": "code",
   "execution_count": 36,
   "metadata": {},
   "outputs": [
    {
     "name": "stdout",
     "output_type": "stream",
     "text": [
      "Percentage of not uniquely matched: 0.24 % (6 / 2484)\n"
     ]
    }
   ],
   "source": [
    "print('Percentage of not uniquely matched: {:.2f} % ({} / {})'.format(\n",
    "        len([1 for d in distances if (d[0] == 0 and d[1] == 0)]) / distances.shape[0] * 100,\n",
    "        len([1 for d in distances if (d[0] == 0 and d[1] == 0)]),\n",
    "        distances.shape[0]\n",
    "    )\n",
    ")"
   ]
  },
  {
   "cell_type": "code",
   "execution_count": 23,
   "metadata": {},
   "outputs": [
    {
     "data": {
      "image/png": "[encoded data removed]",
      "text/plain": [
       "<matplotlib.figure.Figure at 0x7fee69b76080>"
      ]
     },
     "metadata": {},
     "output_type": "display_data"
    }
   ],
   "source": [
    "f = plt.figure(figsize=(10, 4))\n",
    "\n",
    "ax = plt.subplot(1, 1, 1)\n",
    "ax.set_title('Distribution of distances of imperfectly matched nodes')\n",
    "n, bins, patches = ax.hist(distances[distances[:,0] != 0][:,0], 50)\n",
    "# n, bins, patches = ax.hist(distances[:,1], 50, alpha=0.5)"
   ]
  }
 ],
 "metadata": {
  "kernelspec": {
   "display_name": "Python 3",
   "language": "python",
   "name": "python3"
  },
  "language_info": {
   "codemirror_mode": {
    "name": "ipython",
    "version": 3
   },
   "file_extension": ".py",
   "mimetype": "text/x-python",
   "name": "python",
   "nbconvert_exporter": "python",
   "pygments_lexer": "ipython3",
   "version": "3.6.4"
  }
 },
 "nbformat": 4,
 "nbformat_minor": 2
}
